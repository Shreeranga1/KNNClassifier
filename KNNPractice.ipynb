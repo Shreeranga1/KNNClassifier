{
  "nbformat": 4,
  "nbformat_minor": 0,
  "metadata": {
    "colab": {
      "name": "KNNPractice.ipynb",
      "provenance": [],
      "authorship_tag": "ABX9TyMjO6LSEiJalOrAhVaH6SY4",
      "include_colab_link": true
    },
    "kernelspec": {
      "name": "python3",
      "display_name": "Python 3"
    },
    "language_info": {
      "name": "python"
    }
  },
  "cells": [
    {
      "cell_type": "markdown",
      "metadata": {
        "id": "view-in-github",
        "colab_type": "text"
      },
      "source": [
        "<a href=\"https://colab.research.google.com/github/Shreeranga1/KNNClassifier/blob/main/KNNPractice.ipynb\" target=\"_parent\"><img src=\"https://colab.research.google.com/assets/colab-badge.svg\" alt=\"Open In Colab\"/></a>"
      ]
    },
    {
      "cell_type": "code",
      "metadata": {
        "id": "aeVJE5AH0t2L"
      },
      "source": [
        "import pandas as pd\n",
        "import numpy as np"
      ],
      "execution_count": 1,
      "outputs": []
    },
    {
      "cell_type": "code",
      "metadata": {
        "id": "6LrNenvE0yKy"
      },
      "source": [
        "df=pd.read_csv('/content/sample_data/bank.csv')"
      ],
      "execution_count": 2,
      "outputs": []
    },
    {
      "cell_type": "code",
      "metadata": {
        "colab": {
          "base_uri": "https://localhost:8080/",
          "height": 204
        },
        "id": "imo1fyXo1JTi",
        "outputId": "2a67d31f-5cfb-450f-f018-23d74e7edb36"
      },
      "source": [
        "df.head()"
      ],
      "execution_count": 3,
      "outputs": [
        {
          "output_type": "execute_result",
          "data": {
            "text/html": [
              "<div>\n",
              "<style scoped>\n",
              "    .dataframe tbody tr th:only-of-type {\n",
              "        vertical-align: middle;\n",
              "    }\n",
              "\n",
              "    .dataframe tbody tr th {\n",
              "        vertical-align: top;\n",
              "    }\n",
              "\n",
              "    .dataframe thead th {\n",
              "        text-align: right;\n",
              "    }\n",
              "</style>\n",
              "<table border=\"1\" class=\"dataframe\">\n",
              "  <thead>\n",
              "    <tr style=\"text-align: right;\">\n",
              "      <th></th>\n",
              "      <th>age</th>\n",
              "      <th>duration</th>\n",
              "      <th>campaign</th>\n",
              "      <th>pdays</th>\n",
              "      <th>previous</th>\n",
              "      <th>emp.var.rate</th>\n",
              "      <th>cons.price.idx</th>\n",
              "      <th>cons.conf.idx</th>\n",
              "      <th>euribor3m</th>\n",
              "      <th>nr.employed</th>\n",
              "      <th>y</th>\n",
              "    </tr>\n",
              "  </thead>\n",
              "  <tbody>\n",
              "    <tr>\n",
              "      <th>0</th>\n",
              "      <td>32</td>\n",
              "      <td>205</td>\n",
              "      <td>2</td>\n",
              "      <td>999</td>\n",
              "      <td>0</td>\n",
              "      <td>1.1</td>\n",
              "      <td>93.994</td>\n",
              "      <td>-36.4</td>\n",
              "      <td>4.858</td>\n",
              "      <td>5191.0</td>\n",
              "      <td>no</td>\n",
              "    </tr>\n",
              "    <tr>\n",
              "      <th>1</th>\n",
              "      <td>32</td>\n",
              "      <td>691</td>\n",
              "      <td>10</td>\n",
              "      <td>999</td>\n",
              "      <td>0</td>\n",
              "      <td>1.4</td>\n",
              "      <td>93.918</td>\n",
              "      <td>-42.7</td>\n",
              "      <td>4.960</td>\n",
              "      <td>5228.1</td>\n",
              "      <td>yes</td>\n",
              "    </tr>\n",
              "    <tr>\n",
              "      <th>2</th>\n",
              "      <td>45</td>\n",
              "      <td>45</td>\n",
              "      <td>8</td>\n",
              "      <td>999</td>\n",
              "      <td>0</td>\n",
              "      <td>1.4</td>\n",
              "      <td>93.444</td>\n",
              "      <td>-36.1</td>\n",
              "      <td>4.963</td>\n",
              "      <td>5228.1</td>\n",
              "      <td>no</td>\n",
              "    </tr>\n",
              "    <tr>\n",
              "      <th>3</th>\n",
              "      <td>33</td>\n",
              "      <td>400</td>\n",
              "      <td>1</td>\n",
              "      <td>5</td>\n",
              "      <td>2</td>\n",
              "      <td>-1.1</td>\n",
              "      <td>94.601</td>\n",
              "      <td>-49.5</td>\n",
              "      <td>1.032</td>\n",
              "      <td>4963.6</td>\n",
              "      <td>yes</td>\n",
              "    </tr>\n",
              "    <tr>\n",
              "      <th>4</th>\n",
              "      <td>47</td>\n",
              "      <td>903</td>\n",
              "      <td>2</td>\n",
              "      <td>999</td>\n",
              "      <td>1</td>\n",
              "      <td>-1.8</td>\n",
              "      <td>93.075</td>\n",
              "      <td>-47.1</td>\n",
              "      <td>1.415</td>\n",
              "      <td>5099.1</td>\n",
              "      <td>yes</td>\n",
              "    </tr>\n",
              "  </tbody>\n",
              "</table>\n",
              "</div>"
            ],
            "text/plain": [
              "   age  duration  campaign  pdays  ...  cons.conf.idx  euribor3m  nr.employed    y\n",
              "0   32       205         2    999  ...          -36.4      4.858       5191.0   no\n",
              "1   32       691        10    999  ...          -42.7      4.960       5228.1  yes\n",
              "2   45        45         8    999  ...          -36.1      4.963       5228.1   no\n",
              "3   33       400         1      5  ...          -49.5      1.032       4963.6  yes\n",
              "4   47       903         2    999  ...          -47.1      1.415       5099.1  yes\n",
              "\n",
              "[5 rows x 11 columns]"
            ]
          },
          "metadata": {
            "tags": []
          },
          "execution_count": 3
        }
      ]
    },
    {
      "cell_type": "code",
      "metadata": {
        "id": "zjnK1eeJ1KsP"
      },
      "source": [
        "Q1=df.quantile(0.25)\n",
        "Q3=df.quantile(0.75)\n",
        "IQR=Q3-Q1"
      ],
      "execution_count": 5,
      "outputs": []
    },
    {
      "cell_type": "code",
      "metadata": {
        "id": "aXK5NwA-BcJV"
      },
      "source": [
        "first_quartile=Q1-1.5*IQR"
      ],
      "execution_count": 6,
      "outputs": []
    },
    {
      "cell_type": "code",
      "metadata": {
        "id": "IDRRnfK9BpHy"
      },
      "source": [
        "third_quartile=Q3+1.5*IQR"
      ],
      "execution_count": 7,
      "outputs": []
    },
    {
      "cell_type": "code",
      "metadata": {
        "id": "Yb7aXBSu1z3f"
      },
      "source": [
        "df=df[~((df< first_quartile)|(df>third_quartile)).any(axis=1)]"
      ],
      "execution_count": 8,
      "outputs": []
    },
    {
      "cell_type": "code",
      "metadata": {
        "id": "Rl6N5YGpCHh8"
      },
      "source": [
        "df=df.reset_index(drop=True)"
      ],
      "execution_count": 9,
      "outputs": []
    },
    {
      "cell_type": "code",
      "metadata": {
        "colab": {
          "base_uri": "https://localhost:8080/"
        },
        "id": "GaNcg2vqCReI",
        "outputId": "98d31c40-820d-4df4-db72-870bed414ef6"
      },
      "source": [
        "df.shape"
      ],
      "execution_count": 10,
      "outputs": [
        {
          "output_type": "execute_result",
          "data": {
            "text/plain": [
              "(6555, 11)"
            ]
          },
          "metadata": {
            "tags": []
          },
          "execution_count": 10
        }
      ]
    },
    {
      "cell_type": "markdown",
      "metadata": {
        "id": "7nzE1cWZCY9s"
      },
      "source": [
        "Split the independent and dependent variable"
      ]
    },
    {
      "cell_type": "code",
      "metadata": {
        "id": "04nZFMxMCTrY"
      },
      "source": [
        "df_target=df['y']\n",
        "df_feature=df.drop('y',axis=1)"
      ],
      "execution_count": 11,
      "outputs": []
    },
    {
      "cell_type": "code",
      "metadata": {
        "id": "PqyVcVkXCqqU"
      },
      "source": [
        "df_target.replace({'yes':1,'no':0},inplace=True)"
      ],
      "execution_count": 12,
      "outputs": []
    },
    {
      "cell_type": "code",
      "metadata": {
        "colab": {
          "base_uri": "https://localhost:8080/"
        },
        "id": "-13Kkm1cC5PC",
        "outputId": "2cc105b6-847c-4a07-fa20-78ea85e0c718"
      },
      "source": [
        "df_target.astype('int')"
      ],
      "execution_count": 16,
      "outputs": [
        {
          "output_type": "execute_result",
          "data": {
            "text/plain": [
              "0       0\n",
              "1       1\n",
              "2       0\n",
              "3       0\n",
              "4       0\n",
              "       ..\n",
              "6550    1\n",
              "6551    0\n",
              "6552    0\n",
              "6553    0\n",
              "6554    0\n",
              "Name: y, Length: 6555, dtype: int64"
            ]
          },
          "metadata": {
            "tags": []
          },
          "execution_count": 16
        }
      ]
    },
    {
      "cell_type": "markdown",
      "metadata": {
        "id": "O-y8CuX0DNUE"
      },
      "source": [
        "Do null check"
      ]
    },
    {
      "cell_type": "code",
      "metadata": {
        "colab": {
          "base_uri": "https://localhost:8080/"
        },
        "id": "kiCPZ42RC7LD",
        "outputId": "da33f61d-de30-42b3-b014-2dfad0eefac0"
      },
      "source": [
        "Total=df_feature.isnull().sum()\n",
        "Total"
      ],
      "execution_count": 18,
      "outputs": [
        {
          "output_type": "execute_result",
          "data": {
            "text/plain": [
              "age               0\n",
              "duration          0\n",
              "campaign          0\n",
              "pdays             0\n",
              "previous          0\n",
              "emp.var.rate      0\n",
              "cons.price.idx    0\n",
              "cons.conf.idx     0\n",
              "euribor3m         0\n",
              "nr.employed       0\n",
              "dtype: int64"
            ]
          },
          "metadata": {
            "tags": []
          },
          "execution_count": 18
        }
      ]
    },
    {
      "cell_type": "code",
      "metadata": {
        "colab": {
          "base_uri": "https://localhost:8080/"
        },
        "id": "BfBuiv5ODTaS",
        "outputId": "2b1a3c01-bcc6-4964-d6fa-55041f9eed52"
      },
      "source": [
        "df_feature.std()"
      ],
      "execution_count": 19,
      "outputs": [
        {
          "output_type": "execute_result",
          "data": {
            "text/plain": [
              "age                10.184894\n",
              "duration          253.406706\n",
              "campaign            1.283539\n",
              "pdays               0.000000\n",
              "previous            0.000000\n",
              "emp.var.rate        1.626927\n",
              "cons.price.idx      0.585132\n",
              "cons.conf.idx       4.659679\n",
              "euribor3m           1.779666\n",
              "nr.employed        74.431765\n",
              "dtype: float64"
            ]
          },
          "metadata": {
            "tags": []
          },
          "execution_count": 19
        }
      ]
    },
    {
      "cell_type": "code",
      "metadata": {
        "id": "9yGBJ6P-DccC"
      },
      "source": [
        "df_feature.drop(labels=[\"pdays\",\"previous\"],axis=1,inplace=True)"
      ],
      "execution_count": 20,
      "outputs": []
    },
    {
      "cell_type": "markdown",
      "metadata": {
        "id": "FUAyMw29Dyq6"
      },
      "source": [
        "SCale the data"
      ]
    },
    {
      "cell_type": "code",
      "metadata": {
        "id": "VfSJibSdDtuQ"
      },
      "source": [
        "from sklearn.preprocessing import StandardScaler"
      ],
      "execution_count": 21,
      "outputs": []
    },
    {
      "cell_type": "code",
      "metadata": {
        "colab": {
          "base_uri": "https://localhost:8080/",
          "height": 204
        },
        "id": "jxoMid1vD5ly",
        "outputId": "11b0c2fe-2c8a-45a2-92f7-97b5b08b7ff5"
      },
      "source": [
        "s=StandardScaler()\n",
        "df_scaled=s.fit_transform(df_feature)\n",
        "X=pd.DataFrame(df_scaled,columns=df_feature.columns)\n",
        "X.head()"
      ],
      "execution_count": 22,
      "outputs": [
        {
          "output_type": "execute_result",
          "data": {
            "text/html": [
              "<div>\n",
              "<style scoped>\n",
              "    .dataframe tbody tr th:only-of-type {\n",
              "        vertical-align: middle;\n",
              "    }\n",
              "\n",
              "    .dataframe tbody tr th {\n",
              "        vertical-align: top;\n",
              "    }\n",
              "\n",
              "    .dataframe thead th {\n",
              "        text-align: right;\n",
              "    }\n",
              "</style>\n",
              "<table border=\"1\" class=\"dataframe\">\n",
              "  <thead>\n",
              "    <tr style=\"text-align: right;\">\n",
              "      <th></th>\n",
              "      <th>age</th>\n",
              "      <th>duration</th>\n",
              "      <th>campaign</th>\n",
              "      <th>emp.var.rate</th>\n",
              "      <th>cons.price.idx</th>\n",
              "      <th>cons.conf.idx</th>\n",
              "      <th>euribor3m</th>\n",
              "      <th>nr.employed</th>\n",
              "    </tr>\n",
              "  </thead>\n",
              "  <tbody>\n",
              "    <tr>\n",
              "      <th>0</th>\n",
              "      <td>-0.722787</td>\n",
              "      <td>-0.480765</td>\n",
              "      <td>-0.024486</td>\n",
              "      <td>0.701361</td>\n",
              "      <td>0.749298</td>\n",
              "      <td>0.910658</td>\n",
              "      <td>0.765585</td>\n",
              "      <td>0.394074</td>\n",
              "    </tr>\n",
              "    <tr>\n",
              "      <th>1</th>\n",
              "      <td>-1.410132</td>\n",
              "      <td>-0.330797</td>\n",
              "      <td>0.754670</td>\n",
              "      <td>-1.081276</td>\n",
              "      <td>-1.217928</td>\n",
              "      <td>-2.008221</td>\n",
              "      <td>-1.104009</td>\n",
              "      <td>-0.840708</td>\n",
              "    </tr>\n",
              "    <tr>\n",
              "      <th>2</th>\n",
              "      <td>-0.330018</td>\n",
              "      <td>-0.445246</td>\n",
              "      <td>-0.803642</td>\n",
              "      <td>-0.036282</td>\n",
              "      <td>-0.607764</td>\n",
              "      <td>-0.291233</td>\n",
              "      <td>0.350869</td>\n",
              "      <td>0.458567</td>\n",
              "    </tr>\n",
              "    <tr>\n",
              "      <th>3</th>\n",
              "      <td>0.357326</td>\n",
              "      <td>0.880787</td>\n",
              "      <td>-0.803642</td>\n",
              "      <td>0.701361</td>\n",
              "      <td>0.749298</td>\n",
              "      <td>0.910658</td>\n",
              "      <td>0.765023</td>\n",
              "      <td>0.394074</td>\n",
              "    </tr>\n",
              "    <tr>\n",
              "      <th>4</th>\n",
              "      <td>1.241055</td>\n",
              "      <td>-1.037225</td>\n",
              "      <td>-0.803642</td>\n",
              "      <td>0.701361</td>\n",
              "      <td>0.749298</td>\n",
              "      <td>0.910658</td>\n",
              "      <td>0.763899</td>\n",
              "      <td>0.394074</td>\n",
              "    </tr>\n",
              "  </tbody>\n",
              "</table>\n",
              "</div>"
            ],
            "text/plain": [
              "        age  duration  campaign  ...  cons.conf.idx  euribor3m  nr.employed\n",
              "0 -0.722787 -0.480765 -0.024486  ...       0.910658   0.765585     0.394074\n",
              "1 -1.410132 -0.330797  0.754670  ...      -2.008221  -1.104009    -0.840708\n",
              "2 -0.330018 -0.445246 -0.803642  ...      -0.291233   0.350869     0.458567\n",
              "3  0.357326  0.880787 -0.803642  ...       0.910658   0.765023     0.394074\n",
              "4  1.241055 -1.037225 -0.803642  ...       0.910658   0.763899     0.394074\n",
              "\n",
              "[5 rows x 8 columns]"
            ]
          },
          "metadata": {
            "tags": []
          },
          "execution_count": 22
        }
      ]
    },
    {
      "cell_type": "markdown",
      "metadata": {
        "id": "32JiZOJmEaIr"
      },
      "source": [
        "Now lets split the data "
      ]
    },
    {
      "cell_type": "code",
      "metadata": {
        "id": "BO0XddfTElg5"
      },
      "source": [
        "from sklearn.model_selection import train_test_split"
      ],
      "execution_count": 23,
      "outputs": []
    },
    {
      "cell_type": "code",
      "metadata": {
        "id": "7iUGUm1BEWIq"
      },
      "source": [
        "X_train,X_test,Y_train,Y_test=train_test_split(X,df_target,random_state=10,test_size =0.2)"
      ],
      "execution_count": 24,
      "outputs": []
    },
    {
      "cell_type": "markdown",
      "metadata": {
        "id": "QYPSL92FFk8p"
      },
      "source": [
        "KNN implementation"
      ]
    },
    {
      "cell_type": "code",
      "metadata": {
        "id": "D_M9e6bPFha6"
      },
      "source": [
        "from sklearn.neighbors import KNeighborsClassifier"
      ],
      "execution_count": 25,
      "outputs": []
    },
    {
      "cell_type": "code",
      "metadata": {
        "id": "GLvxWYoWF25a"
      },
      "source": [
        "Knn=KNeighborsClassifier(n_neighbors=3,metric='euclidean')\n",
        "Knn_model=Knn.fit(X_train,Y_train)\n",
        "y_pred=Knn.predict(X_test)"
      ],
      "execution_count": 28,
      "outputs": []
    },
    {
      "cell_type": "code",
      "metadata": {
        "id": "MW73E2aIGYZ5"
      },
      "source": [
        "from sklearn.metrics import accuracy_score"
      ],
      "execution_count": 29,
      "outputs": []
    },
    {
      "cell_type": "code",
      "metadata": {
        "colab": {
          "base_uri": "https://localhost:8080/"
        },
        "id": "uIbzUHfeGsKq",
        "outputId": "12da4a2a-7e53-464d-94f9-4bcf382d03ec"
      },
      "source": [
        "accuracy_score(Y_test,y_pred)"
      ],
      "execution_count": 31,
      "outputs": [
        {
          "output_type": "execute_result",
          "data": {
            "text/plain": [
              "0.8497330282227308"
            ]
          },
          "metadata": {
            "tags": []
          },
          "execution_count": 31
        }
      ]
    },
    {
      "cell_type": "code",
      "metadata": {
        "id": "Z7gX5MafGwpL"
      },
      "source": [
        "from sklearn.metrics import confusion_matrix"
      ],
      "execution_count": 32,
      "outputs": []
    },
    {
      "cell_type": "code",
      "metadata": {
        "colab": {
          "base_uri": "https://localhost:8080/"
        },
        "id": "WTPSlcurG69S",
        "outputId": "194f47eb-401c-4d81-a543-d666eb552e1d"
      },
      "source": [
        "confusion_matrix(Y_test,y_pred)"
      ],
      "execution_count": 34,
      "outputs": [
        {
          "output_type": "execute_result",
          "data": {
            "text/plain": [
              "array([[715, 104],\n",
              "       [ 93, 399]])"
            ]
          },
          "metadata": {
            "tags": []
          },
          "execution_count": 34
        }
      ]
    },
    {
      "cell_type": "code",
      "metadata": {
        "id": "Re9J2w-oG-pJ"
      },
      "source": [
        "from sklearn.metrics import classification_report"
      ],
      "execution_count": 35,
      "outputs": []
    },
    {
      "cell_type": "code",
      "metadata": {
        "colab": {
          "base_uri": "https://localhost:8080/"
        },
        "id": "LL6w2jmJHIAR",
        "outputId": "f04cd665-4776-4d1e-b746-60c350e7a2d9"
      },
      "source": [
        "print(classification_report(Y_test,y_pred))"
      ],
      "execution_count": 37,
      "outputs": [
        {
          "output_type": "stream",
          "text": [
            "              precision    recall  f1-score   support\n",
            "\n",
            "           0       0.88      0.87      0.88       819\n",
            "           1       0.79      0.81      0.80       492\n",
            "\n",
            "    accuracy                           0.85      1311\n",
            "   macro avg       0.84      0.84      0.84      1311\n",
            "weighted avg       0.85      0.85      0.85      1311\n",
            "\n"
          ],
          "name": "stdout"
        }
      ]
    },
    {
      "cell_type": "code",
      "metadata": {
        "id": "App4dsmGHMkK"
      },
      "source": [
        "from sklearn.metrics import roc_auc_score"
      ],
      "execution_count": 38,
      "outputs": []
    },
    {
      "cell_type": "code",
      "metadata": {
        "colab": {
          "base_uri": "https://localhost:8080/"
        },
        "id": "ZgjE0jOOHWK4",
        "outputId": "b138c932-a46b-4f4c-92b5-641a9088dd5c"
      },
      "source": [
        "roc_auc_score(Y_test,y_pred)"
      ],
      "execution_count": 39,
      "outputs": [
        {
          "output_type": "execute_result",
          "data": {
            "text/plain": [
              "0.8419957413859853"
            ]
          },
          "metadata": {
            "tags": []
          },
          "execution_count": 39
        }
      ]
    },
    {
      "cell_type": "markdown",
      "metadata": {
        "id": "ezUEVtlPHd3A"
      },
      "source": [
        "Tuned Params"
      ]
    },
    {
      "cell_type": "code",
      "metadata": {
        "id": "ljY5D4iAIKUL"
      },
      "source": [
        "from sklearn.model_selection import GridSearchCV"
      ],
      "execution_count": 41,
      "outputs": []
    },
    {
      "cell_type": "code",
      "metadata": {
        "id": "eL8W3VVPIUrq"
      },
      "source": [
        "tuned_paramaters = {'n_neighbors': np.arange(1, 25, 2),\n",
        "                   'metric': ['hamming','euclidean','manhattan','Chebyshev']}\n",
        "knn_classification = KNeighborsClassifier(n_jobs=-1)\n",
        "knn_grid = GridSearchCV(estimator = knn_classification, \n",
        "                        param_grid = tuned_paramaters, \n",
        "                        cv = 3, \n",
        "                        scoring = 'accuracy', \n",
        "                        n_jobs=-1)"
      ],
      "execution_count": 47,
      "outputs": []
    },
    {
      "cell_type": "code",
      "metadata": {
        "colab": {
          "base_uri": "https://localhost:8080/"
        },
        "id": "KD9QO1kaIx-h",
        "outputId": "7bc77748-746d-4bcc-c672-8c65aa69f8c3"
      },
      "source": [
        "knn_grid.fit(X_train, Y_train)"
      ],
      "execution_count": 48,
      "outputs": [
        {
          "output_type": "execute_result",
          "data": {
            "text/plain": [
              "GridSearchCV(cv=3, error_score=nan,\n",
              "             estimator=KNeighborsClassifier(algorithm='auto', leaf_size=30,\n",
              "                                            metric='minkowski',\n",
              "                                            metric_params=None, n_jobs=-1,\n",
              "                                            n_neighbors=5, p=2,\n",
              "                                            weights='uniform'),\n",
              "             iid='deprecated', n_jobs=-1,\n",
              "             param_grid={'metric': ['hamming', 'euclidean', 'manhattan',\n",
              "                                    'Chebyshev'],\n",
              "                         'n_neighbors': array([ 1,  3,  5,  7,  9, 11, 13, 15, 17, 19, 21, 23])},\n",
              "             pre_dispatch='2*n_jobs', refit=True, return_train_score=False,\n",
              "             scoring='accuracy', verbose=0)"
            ]
          },
          "metadata": {
            "tags": []
          },
          "execution_count": 48
        }
      ]
    },
    {
      "cell_type": "code",
      "metadata": {
        "colab": {
          "base_uri": "https://localhost:8080/"
        },
        "id": "jU7h4jY3JDGP",
        "outputId": "a48ddc3a-2cb5-458d-87b2-190a187b1a25"
      },
      "source": [
        "knn_grid.best_params_"
      ],
      "execution_count": 50,
      "outputs": [
        {
          "output_type": "execute_result",
          "data": {
            "text/plain": [
              "{'metric': 'manhattan', 'n_neighbors': 15}"
            ]
          },
          "metadata": {
            "tags": []
          },
          "execution_count": 50
        }
      ]
    },
    {
      "cell_type": "code",
      "metadata": {
        "id": "xrCDH14BKTtZ"
      },
      "source": [
        "knn_classification = KNeighborsClassifier(n_neighbors = knn_grid.best_params_['n_neighbors'], \n",
        "                                          metric=knn_grid.best_params_['metric'])\n",
        "\n",
        "# fit the model using fit() on train data\n",
        "knn_model = knn_classification.fit(X_train, Y_train)"
      ],
      "execution_count": 54,
      "outputs": []
    },
    {
      "cell_type": "code",
      "metadata": {
        "colab": {
          "base_uri": "https://localhost:8080/"
        },
        "id": "XNfMf52qKiAw",
        "outputId": "37dd74a3-63a5-47ea-e984-1e2d4e803009"
      },
      "source": [
        "y_pred=knn_model.predict(X_test)\n",
        "accuracy_score(Y_test,y_pred)"
      ],
      "execution_count": 55,
      "outputs": [
        {
          "output_type": "execute_result",
          "data": {
            "text/plain": [
              "0.858886346300534"
            ]
          },
          "metadata": {
            "tags": []
          },
          "execution_count": 55
        }
      ]
    },
    {
      "cell_type": "code",
      "metadata": {
        "id": "dR-g9F-sK32x"
      },
      "source": [
        ""
      ],
      "execution_count": null,
      "outputs": []
    }
  ]
}